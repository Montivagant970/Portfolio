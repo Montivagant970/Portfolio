{
 "cells": [
  {
   "cell_type": "markdown",
   "metadata": {},
   "source": [
    "# **Minesweeper Solver with z3**\n",
    "\n",
    "The following notebook provides a method for solving Minesweeper using z3 as a Satisfiability Modulo Theories solver which I developed for my class on Artificial Intelligence at the Free University of Bolzano/Bozen.\n",
    "\n",
    "Various board configurations can be queried here: https://davidnhill.github.io/JSMinesweeper."
   ]
  },
  {
   "cell_type": "code",
   "execution_count": 1,
   "metadata": {},
   "outputs": [],
   "source": [
    "from z3 import *"
   ]
  },
  {
   "cell_type": "code",
   "execution_count": null,
   "metadata": {},
   "outputs": [],
   "source": [
    "## Environment ##\n",
    "name: ailab-cop\n",
    "channels:\n",
    "  - conda-forge\n",
    "  - nodefaults\n",
    "dependencies:\n",
    "  - python >3.8,<3.12\n",
    "  - clingo\n",
    "  - ipywidgets\n",
    "  - jupyterlab\n",
    "  - jupyterlab-git\n",
    "  - jupytext\n",
    "  - matplotlib\n",
    "  - networkx\n",
    "  - pandas\n",
    "  - pip\n",
    "  - pip:\n",
    "      - minizinc\n",
    "      - nographs\n",
    "      - z3-solver"
   ]
  },
  {
   "cell_type": "markdown",
   "metadata": {},
   "source": [
    "## **Minesweeper Puzzle Creator**\n",
    "\n",
    "The following function encodes a specific starting board into the list-of-lists input required by the solver."
   ]
  },
  {
   "cell_type": "code",
   "execution_count": 2,
   "metadata": {},
   "outputs": [
    {
     "data": {
      "text/plain": [
       "[['0', '1', '?', '1', '0', '0', '0', '1', '?'],\n",
       " ['0', '1', '?', '1', '0', '0', '0', '1', '1'],\n",
       " ['0', '1', '1', '1', '0', '0', '0', '0', '0'],\n",
       " ['0', '0', '0', '0', '0', '0', '0', '0', '0'],\n",
       " ['1', '1', '1', '1', '1', '0', '0', '1', '1'],\n",
       " ['?', '?', '?', '?', '1', '0', '0', '1', '?'],\n",
       " ['?', '?', '?', '?', '3', '1', '0', '1', '?'],\n",
       " ['?', '?', '?', '?', '?', '2', '1', '1', '?'],\n",
       " ['?', '?', '?', '?', '?', '?', '?', '?', '?']]"
      ]
     },
     "execution_count": 2,
     "metadata": {},
     "output_type": "execute_result"
    }
   ],
   "source": [
    "def get_grid(minefield: str) -> tuple[tuple]:\n",
    "    return list(list(c for c in line) for line in map(str.strip, minefield.splitlines()) if len(line))\n",
    "\n",
    "get_grid('''\n",
    "    01?10001?\n",
    "    01?100011\n",
    "    011100000\n",
    "    000000000\n",
    "    111110011\n",
    "    ????1001?\n",
    "    ????3101?\n",
    "    ?????211?\n",
    "    ?????????\n",
    " ''')"
   ]
  },
  {
   "cell_type": "markdown",
   "metadata": {},
   "source": [
    "## **Minesweeper Solver**\n",
    "\n",
    "The following function solves unambiguous starting instances of the Minesweeper game, here fixed at boardsizes no greater than 6x6."
   ]
  },
  {
   "cell_type": "code",
   "execution_count": 3,
   "metadata": {},
   "outputs": [],
   "source": [
    "def minesweepersolver(puzzle, total_mines):\n",
    "    s = Solver()\n",
    "\n",
    "    #Instantiating the Structure:\n",
    "    structure = [[Bool(f\"mine_{i+1}_{j+1}\") for j in range(6)] for i in range(6)] #creates the matrix framework with variables of the Boolean type, given names relative to their coordinates \n",
    "\n",
    "    #Constraints #1 - Bombs and Values must Match \n",
    "    for i in range(6):\n",
    "        for j in range(6):\n",
    "            #Bomb Count:\n",
    "            \"\"\"For every square on the board, the function sums the total of 'True' squares (bomb locations), delimiting the search to only the board itself \n",
    "            by excluding hypothetical coordinate combinations which fall outside of the board. Takes the total and subtracts 1, if the square under review \n",
    "            has a bomb itself, so as to not add it in the bomb count of its neighbors.\"\"\"\n",
    "            count = sum(structure[x][y] for x in range(max(0, i-1), min(6, i+2)) for y in range(max(0, j-1), min(6, j+2))) - structure[i][j]\n",
    "\n",
    "            #Constraint #1:\n",
    "            \"\"\"For every square on the board which is not unknown (and therefore has a value), if the Boolean value assigned to the square is 'True' (has a \n",
    "            bomb), then the constraint is that the square must be 'True'. Otherwise, the count of bombs in neighboring squares must equal the value assigned \n",
    "            to the square on the board. \"\"\"\n",
    "            if puzzle[i][j] != '?':\n",
    "                s.add(If(structure[i][j], True, count == puzzle[i][j]))\n",
    "\n",
    "    #Constraint #2 - Bomb Count cannot exceed Total\n",
    "    \"\"\"For every square on the board, if the Boolean value is 'True' (has a bomb), count +1, otherwise count +0. Takes the sum which must match the \n",
    "    total number of bombs.\"\"\"\n",
    "    s.add(sum([If(structure[i][j], 1, 0) for i in range(6) for j in range(6)]) == total_mines)\n",
    "\n",
    "    #Check for Satisfation\n",
    "    \"\"\"If the solver creates a solution which satisfies the constraints, create a model with the Boolean values of the solution. The Boolean matrix then \n",
    "    gets updated with the solution values.\"\"\"\n",
    "    if s.check() == sat:\n",
    "        model = s.model()\n",
    "        solution = [[model.evaluate(structure[i][j]) for j in range(6)] for i in range(6)]\n",
    "\n",
    "        \"\"\"Transforms the solution into a 'X' (bomb) / '.' (no bomb) visual.\"\"\"\n",
    "        if solution:\n",
    "            print('Solution:')\n",
    "            for row in solution:\n",
    "                print(' '.join('X' if cell == True else '.' for cell in row))\n",
    "        \n",
    "        return \n",
    "        \n",
    "    else:\n",
    "        print('No solution found.')\n",
    "\n",
    "        return None"
   ]
  },
  {
   "cell_type": "code",
   "execution_count": 4,
   "metadata": {},
   "outputs": [
    {
     "name": "stdout",
     "output_type": "stream",
     "text": [
      "Solution:\n",
      ". . X . X .\n",
      ". . . . . X\n",
      ". . . . . X\n",
      "X . . . . X\n",
      ". . . . . .\n",
      ". . X X X X\n"
     ]
    }
   ],
   "source": [
    "ms_puzzle = [['?', '?', '?', '?', '?', '?'],\n",
    " ['?', '1', '1', '2', '3', '?'],\n",
    " ['?', '1', '0', '0', '3', '?'],\n",
    " ['?', '1', '0', '0', '2', '?'],\n",
    " ['?', '2', '2', '3', '4', '?'],\n",
    " ['?', '?', '?', '?', '?', '?']]\n",
    "\n",
    "minesweepersolver(ms_puzzle, 10)"
   ]
  },
  {
   "cell_type": "markdown",
   "metadata": {},
   "source": [
    "## **Minesweeper Solver for Ambiguity**\n",
    "\n",
    "The following function solves ambiguous starting instances of the Minesweeper game. Ambiguity here implies that the starting instance of the game does not provide sufficient information to be able to solve the game outright. If the above solver is applied, it provides a potential solution, however it may differ from the actual solution of the board. To get around this, the player is iteratively prompted to click on cells known to be safe, so as to uncover additional information which will aid in arriving at the specific solution for the board. Because the boardsizes which have implicit ambiguity tend to be larger, this function also has the user specify the dimensions of the board."
   ]
  },
  {
   "cell_type": "code",
   "execution_count": 1,
   "metadata": {},
   "outputs": [],
   "source": [
    "def minesweepersolver_amb(puzzle, total_mines, boardsize_x, boardsize_y):\n",
    "    count = sum(1 for row in puzzle for item in row if item == '?')\n",
    "\n",
    "    while count > total_mines:\n",
    "        s = Solver()\n",
    "\n",
    "        #Instantiating the Structure:\n",
    "        structure = [[Bool(f\"mine_{i+1}_{j+1}\") for j in range(boardsize_x)] for i in range(boardsize_y)] #creates the matrix framework with variables of the Boolean type, given names relative to their coordinates \n",
    "\n",
    "        #Constraints #1 - Bombs and Values must Match \n",
    "        for i in range(boardsize_y):\n",
    "            for j in range(boardsize_x):\n",
    "                #Bomb Count:\n",
    "                \"\"\"For every square on the board, the function sums the total of 'True' squares (bomb locations), delimiting the search to only the board itself \n",
    "                by excluding hypothetical coordinate combinations which fall outside of the board. Takes the total and subtracts 1, if the square under review \n",
    "                has a bomb itself, so as to not add it in the bomb count of its neighbors.\"\"\"\n",
    "                count = sum(structure[x][y] for x in range(max(0, i-1), min(boardsize_y, i+2)) for y in range(max(0, j-1), min(boardsize_x, j+2))) - structure[i][j]\n",
    "\n",
    "                #Constraint #1:\n",
    "                \"\"\"For every square on the board which is not unknown (and therefore has a value), if the Boolean value assigned to the square is 'True' (has a \n",
    "                bomb), then the constraint is that the square must be 'True'. Otherwise, the count of bombs in neighboring squares must equal the value assigned \n",
    "                to the square on the board. \"\"\"\n",
    "                if puzzle[i][j] != '?':\n",
    "                    s.add(If(structure[i][j], True, count == puzzle[i][j]))\n",
    "\n",
    "        #Constraint #2 - Bomb Count cannot exceed Total\n",
    "        \"\"\"For every square on the board, if the Boolean value is 'True' (has a bomb), count +1, otherwise count +0. Takes the sum which must match the \n",
    "        total number of bombs.\"\"\"\n",
    "        s.add(sum([If(structure[i][j], 1, 0) for i in range(boardsize_y) for j in range(boardsize_x)]) == total_mines)\n",
    "\n",
    "\n",
    "        #Iteration through Negation to Find True Solution\n",
    "        \"\"\"While the total number of unknown cells is greater than the total number of mines, iterate through each square on the board asserting that there is a bomb. If this\n",
    "        assertion cannot satisfy the constraints, there is undoubtedly no bomb in the square. The player is then prompted to click on the cell and insert the new number. The loop\n",
    "        continues until the total number of unkown cells equals the total number of bombs, implying that the solution has been reached. There are two iteration patterns: (1) without \n",
    "        the \"stayin\" Boolean variable, which iterates based on rounds, i.e. the safe squares are calculated one time each round and asked subsequently in order; and (2) with the \"stayin\"\n",
    "        Boolean variable, which iterates every input that the player gives and therefore the safe squares are prompted linearly.\"\"\"\n",
    "        # stayin = True\n",
    "        for i in range(boardsize_y):\n",
    "            for j in range(boardsize_x):\n",
    "                if puzzle[i][j] == '?':\n",
    "                    s.push()\n",
    "                    s.add(structure[i][j] == True)\n",
    "                    if s.check() == unsat:\n",
    "                        pippinput = str(input(f'Click on the puzzle at {(i,j)} and enter the number:'))\n",
    "                        puzzle[i][j] = pippinput\n",
    "                        # stayin = False\n",
    "                        count = sum(1 for row in puzzle for item in row if item == '?')                        \n",
    "                    s.pop()\n",
    "            #     if not stayin:\n",
    "            #         break\n",
    "            # if not stayin:\n",
    "            #     break\n",
    "\n",
    "\n",
    "    #Check for Satisfation\n",
    "    \"\"\"If the solver creates a solution which satisfies the constraints, create a model with the Boolean values of the solution. The Boolean matrix then \n",
    "    gets updated with the solution values.\"\"\"\n",
    "    if s.check() == sat:\n",
    "        model = s.model()\n",
    "        solution = [[model.evaluate(structure[i][j]) for j in range(boardsize_x)] for i in range(boardsize_y)]\n",
    "\n",
    "        \"\"\"Transforms the solution into a 'X' (bomb) / '.' (no bomb) visual.\"\"\"\n",
    "        if solution:\n",
    "            print('Solution:')\n",
    "            for row in solution:\n",
    "                print(' '.join('X' if cell == True else '.' for cell in row))\n",
    "        \n",
    "        return \n",
    "    \n",
    "    else:\n",
    "        print('No solution found.')\n",
    "\n",
    "        return "
   ]
  },
  {
   "cell_type": "code",
   "execution_count": 12,
   "metadata": {},
   "outputs": [
    {
     "name": "stdout",
     "output_type": "stream",
     "text": [
      "Solution:\n",
      ". . . . . . . . X\n",
      ". . X . . . . . .\n",
      ". . . . . . . . .\n",
      ". . . . . . . . .\n",
      ". . . . . . . . .\n",
      "X . . X . . . . X\n",
      ". . . . . . . . .\n",
      "X . . X X . . . .\n",
      ". . X . . . X . .\n"
     ]
    }
   ],
   "source": [
    "ms_puzzle = [['0', '1', '?', '1', '0', '0', '0', '1', '?'],\n",
    " ['0', '1', '?', '1', '0', '0', '0', '1', '1'],\n",
    " ['0', '1', '1', '1', '0', '0', '0', '0', '0'],\n",
    " ['0', '0', '0', '0', '0', '0', '0', '0', '0'],\n",
    " ['1', '1', '1', '1', '1', '0', '0', '1', '1'],\n",
    " ['?', '?', '?', '?', '1', '0', '0', '1', '?'],\n",
    " ['?', '?', '?', '?', '3', '1', '0', '1', '?'],\n",
    " ['?', '?', '?', '?', '?', '2', '1', '1', '?'],\n",
    " ['?', '?', '?', '?', '?', '?', '?', '?', '?']]\n",
    "\n",
    "minesweepersolver_amb(ms_puzzle, total_mines = 10, boardsize_x = 9, boardsize_y = 9)"
   ]
  }
 ],
 "metadata": {
  "kernelspec": {
   "display_name": "ailab-cop",
   "language": "python",
   "name": "python3"
  },
  "language_info": {
   "codemirror_mode": {
    "name": "ipython",
    "version": 3
   },
   "file_extension": ".py",
   "mimetype": "text/x-python",
   "name": "python",
   "nbconvert_exporter": "python",
   "pygments_lexer": "ipython3",
   "version": "3.11.8"
  }
 },
 "nbformat": 4,
 "nbformat_minor": 2
}
