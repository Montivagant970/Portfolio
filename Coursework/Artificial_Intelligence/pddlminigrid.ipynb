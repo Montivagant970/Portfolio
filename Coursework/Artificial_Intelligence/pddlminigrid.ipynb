{
 "cells": [
  {
   "cell_type": "markdown",
   "metadata": {},
   "source": [
    "# **Minigrid Solver with PDDL Planning**\n",
    "\n",
    "The following notebook runs the PDDL domain and problem scripts to solve a Minigrid environment which I developed for my class on Artificial Intelligence at the Free University of Bolzano/Bozen.\n",
    "\n",
    "In this enviroment, the agent must remove the ball blocking the door, pick up the key to unlock the door, find its way to the box, and pick it up.\n",
    "\n",
    "To view the PDDL scripts, reference *minigrid-problem.pddl* (problem file) and *minigrid-domain.pddl* (domain file)."
   ]
  },
  {
   "cell_type": "code",
   "execution_count": null,
   "metadata": {},
   "outputs": [],
   "source": [
    "import gymnasium as gym\n",
    "import minigrid\n",
    "import matplotlib.pyplot as plt\n",
    "\n",
    "import unified_planning.shortcuts as up\n",
    "from unified_planning.io import PDDLReader"
   ]
  },
  {
   "cell_type": "code",
   "execution_count": null,
   "metadata": {},
   "outputs": [],
   "source": [
    "## Environment ##\n",
    "name: ailab-minigrid\n",
    "channels:\n",
    "  - pytorch\n",
    "  - conda-forge\n",
    "  - nodefaults\n",
    "dependencies:\n",
    "  - python >3.8,<3.12\n",
    "  - networkx\n",
    "  # JupyterLab and plugins\n",
    "  - jupyterlab\n",
    "  - jupyterlab-git\n",
    "  - jupytext\n",
    "  # Gymnasium RL framework and training examples\n",
    "  - gymnasium-other\n",
    "  - stable-baselines3\n",
    "  # required by minigrid\n",
    "  - pygame\n",
    "  - pip:\n",
    "      - minigrid\n",
    "      - unified_planning[fast-downward]"
   ]
  },
  {
   "cell_type": "code",
   "execution_count": 2,
   "metadata": {},
   "outputs": [
    {
     "data": {
      "image/png": "[encoded data removed]",
      "text/plain": [
       "<Figure size 640x480 with 1 Axes>"
      ]
     },
     "metadata": {},
     "output_type": "display_data"
    }
   ],
   "source": [
    "## Visualization of the Minigrid Problem Environment ##\n",
    "env = gym.make(\"MiniGrid-BlockedUnlockPickup-v0\", render_mode='rgb_array')\n",
    "\n",
    "env.reset(seed=1234)\n",
    "plt.axis('off')\n",
    "plt.imshow(env.render());"
   ]
  },
  {
   "cell_type": "markdown",
   "metadata": {},
   "source": [
    "For the agent to solve the mission, it had to be equiped with the following action types:\n",
    "\n",
    "1) *move* - allows the agent to move to an adjacent cell as long as it is not blocked by an object or locked by a door.\n",
    "2) *pick* - allows the agent to pick up objects and hold them. Objects include balls and boxes.\n",
    "3) *pick-key* - allows the agent to pick up key objects, since key objects belong to a unique class capable of unlocking locked cells.\n",
    "4) *drop* - allows the agent to drop held objects.\n",
    "5) *drop-key* - allows the agent to drop held key objects.\n",
    "6) *unlock* - allows the agent to unlocks doors, i.e. locked cells.\n",
    "\n",
    "Each cell had to be bidirectionally connected so that the agent is able to move back and forth; the agent was equipped with an ability to hold objects; and finally, the cells were flagged as either blocked, if there was an object, or locked, if there was a door.\n",
    "\n",
    "The following code exhibits the agent's series of actions to move from the starting position, remove the ball blocking the door, pick up the key, unlock the door, move to the box, and pick it up."
   ]
  },
  {
   "cell_type": "code",
   "execution_count": 3,
   "metadata": {},
   "outputs": [
    {
     "name": "stdout",
     "output_type": "stream",
     "text": [
      "\u001b[96m\u001b[1mNOTE: To disable printing of planning engine credits, add this line to your code: `up.shortcuts.get_environment().credits_stream = None`\n",
      "\u001b[0m\u001b[96m  *** Credits ***\n",
      "\u001b[0m\u001b[96m  * In operation mode `OneshotPlanner` at line 3 of `/tmp/ipykernel_8330/831670946.py`, \u001b[0m\u001b[96myou are using the following planning engine:\n",
      "\u001b[0m\u001b[96m  * Engine name: Fast Downward\n",
      "  * Developers:  Uni Basel team and contributors (cf. https://github.com/aibasel/downward/blob/main/README.md)\n",
      "\u001b[0m\u001b[96m  * Description: \u001b[0m\u001b[96mFast Downward is a domain-independent classical planning system.\u001b[0m\u001b[96m\n",
      "\u001b[0m\u001b[96m\n",
      "\u001b[0mPlan (PlanKind.SEQUENTIAL_PLAN):\n",
      "1: move [agent1,cell1_2,cell2_2]\n",
      "2: move [agent1,cell2_2,cell2_1]\n",
      "3: move [agent1,cell2_1,cell3_1]\n",
      "4: pick [agent1,ball1,cell3_1,cell4_1]\n",
      "5: move [agent1,cell3_1,cell4_1]\n",
      "6: drop [agent1,ball1,cell4_1,cell3_1]\n",
      "7: move [agent1,cell4_1,cell4_2]\n",
      "8: move [agent1,cell4_2,cell4_3]\n",
      "9: pick-key [agent1,key1,cell4_3,cell3_3]\n",
      "10: move [agent1,cell4_3,cell4_2]\n",
      "11: move [agent1,cell4_2,cell4_1]\n",
      "12: unlock [agent1,key1,cell4_1,cell5_1]\n",
      "13: move [agent1,cell4_1,cell5_1]\n",
      "14: move [agent1,cell5_1,cell6_1]\n",
      "15: move [agent1,cell6_1,cell6_2]\n",
      "16: move [agent1,cell6_2,cell7_2]\n",
      "17: move [agent1,cell7_2,cell8_2]\n",
      "18: move [agent1,cell8_2,cell8_3]\n",
      "19: move [agent1,cell8_3,cell8_4]\n",
      "20: drop-key [agent1,key1,cell8_4,cell7_4]\n",
      "21: pick [agent1,box1,cell8_4,cell9_4]\n"
     ]
    }
   ],
   "source": [
    "## Calculating the Plan from the PDDL Domain and Problem Files ##\n",
    "problem = PDDLReader().parse_problem(domain_filename='minigrid-domain.pddl', problem_filename= 'minigrid-problem.pddl')\n",
    "\n",
    "with up.OneshotPlanner(problem_kind=problem.kind) as planner:\n",
    "    result = planner.solve(problem)\n",
    "\n",
    "print(f'Plan ({result.plan.kind}):')\n",
    "for i, action in enumerate(result.plan.actions, start=1):\n",
    "    print(f'{i}: {str(action.action.name)} [{\",\".join(str(p) for p in action.actual_parameters)}]')"
   ]
  }
 ],
 "metadata": {
  "kernelspec": {
   "display_name": "ailab-minigrid",
   "language": "python",
   "name": "python3"
  },
  "language_info": {
   "codemirror_mode": {
    "name": "ipython",
    "version": 3
   },
   "file_extension": ".py",
   "mimetype": "text/x-python",
   "name": "python",
   "nbconvert_exporter": "python",
   "pygments_lexer": "ipython3",
   "version": "3.11.9"
  }
 },
 "nbformat": 4,
 "nbformat_minor": 2
}
