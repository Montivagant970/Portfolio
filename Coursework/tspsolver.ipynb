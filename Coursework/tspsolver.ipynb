{
 "cells": [
  {
   "cell_type": "markdown",
   "metadata": {},
   "source": [
    "## **Traveling Sales Person (TSP) Optimization with Constraint Satisfaction**\n",
    "\n",
    "The following notebook provides a method for solving the Traveling Sales Person Problem using MiniZinc for constraint satisfaction/optimization which I developed for my class on Artificial Intelligence at the Free University of Bolzano/Bozen."
   ]
  },
  {
   "cell_type": "code",
   "execution_count": 2,
   "metadata": {},
   "outputs": [],
   "source": [
    "from minizinc import Instance, Model, Solver, Result\n",
    "import nographs as nog\n",
    "from scipy.sparse import lil_matrix"
   ]
  },
  {
   "cell_type": "code",
   "execution_count": null,
   "metadata": {},
   "outputs": [],
   "source": [
    "## Enviroment ##\n",
    "name: ailab-cop\n",
    "channels:\n",
    "  - conda-forge\n",
    "  - nodefaults\n",
    "dependencies:\n",
    "  - python >3.8,<3.12\n",
    "  - clingo\n",
    "  - ipywidgets\n",
    "  - jupyterlab\n",
    "  - jupyterlab-git\n",
    "  - jupytext\n",
    "  - matplotlib\n",
    "  - networkx\n",
    "  - pandas\n",
    "  - pip\n",
    "  - pip:\n",
    "      - iminizinc\n",
    "      - minizinc\n",
    "      - nographs\n",
    "      - z3-solver"
   ]
  },
  {
   "cell_type": "markdown",
   "metadata": {},
   "source": [
    "## **Maze Converter**\n",
    "\n",
    "The following function converts a maze string into a matrix of weights for each edge, calculated by using the NoGraphs maze converter and traversal between all pairs of nodes in the graph. This information is used later by the MiniZinc solver in calculating the minimal distance."
   ]
  },
  {
   "cell_type": "code",
   "execution_count": 17,
   "metadata": {},
   "outputs": [],
   "source": [
    "def mazeconverter(mazestring):\n",
    "    mazestring = mazestring.strip().splitlines() #defines the maze and splits each line to create a list of strings\n",
    "    maze_arr = nog.Array(mazestring, 2) #transforms the list into a two dimensional array\n",
    "\n",
    "    goals = (maze_arr.findall('G')) #calculates all the node coordinates\n",
    "    traversal = nog.TraversalBreadthFirst(maze_arr.next_vertices_from_forbidden('#')) #defines the type of traversal used by nographs (here breadth-first)\n",
    "\n",
    "    all_edges = []\n",
    "    for num in range(len(goals)): #finds the edges and weights between each set of nodes in the whole maze and stores them in a list as a tuple of the form ((start),(goal), edge)\n",
    "        temp_list = []\n",
    "        for goal in goals:\n",
    "            if goal != goals[num]:\n",
    "                temp_list.append(goal)\n",
    "        tupl = tuple(temp_list)\n",
    "        infolist_g = [(traversal.depth, traversal.paths[found]) for found in traversal.start_from(start_vertices = (goals[num],), build_paths = True).go_for_vertices_in(tupl)] #extracts the path sequence and the number of moves to arrive (weight)\n",
    "        edges = [(item[1][0], item[1][-1], item[0]) for item in infolist_g]\n",
    "        all_edges.extend(edges) \n",
    "\n",
    "    goal_ids = {} \n",
    "    for i, goal in enumerate(goals): #creates ids for each of the node points (for loading the distances matrix)\n",
    "        goal_ids[goal] = i\n",
    "\n",
    "    reverse_ids = {}\n",
    "    for x, y in zip(goal_ids.keys(), goal_ids.values()): #reverses the ids for each of the node points (for retrieval)\n",
    "        reverse_ids[y+1] = x \n",
    "\n",
    "    mat = lil_matrix((len(goal_ids), len(goal_ids))) #instantiates a matrix of the length of the list the nodes \n",
    "\n",
    "    for x in all_edges: #updates the matrix with all the edge distances for each pair of node points\n",
    "        if x[0] in goal_ids:\n",
    "            id_x = goal_ids[x[0]]\n",
    "            if x[1] in goal_ids:\n",
    "                id_y = goal_ids[x[1]]\n",
    "                mat[id_x, id_y] = x[2]\n",
    "\n",
    "    edges = [list(int(item) for item in line) for line in mat.toarray()]\n",
    "    \n",
    "    return edges, reverse_ids"
   ]
  },
  {
   "cell_type": "code",
   "execution_count": 18,
   "metadata": {},
   "outputs": [
    {
     "data": {
      "text/plain": [
       "[[0, 17, 3, 9, 15, 3, 16],\n",
       " [17, 0, 16, 8, 2, 20, 3],\n",
       " [3, 16, 0, 8, 14, 4, 15],\n",
       " [9, 8, 8, 0, 6, 12, 7],\n",
       " [15, 2, 14, 6, 0, 18, 1],\n",
       " [3, 20, 4, 12, 18, 0, 19],\n",
       " [16, 3, 15, 7, 1, 19, 0]]"
      ]
     },
     "execution_count": 18,
     "metadata": {},
     "output_type": "execute_result"
    }
   ],
   "source": [
    "mazestring = '''\n",
    "################\n",
    "#G........#...G#\n",
    "#..G.#....#....#\n",
    "#....#..G.....G#\n",
    "#G...#....#...G#\n",
    "################\n",
    "'''\n",
    "edges, reverse_ids = mazeconverter(mazestring)\n",
    "edges"
   ]
  },
  {
   "cell_type": "markdown",
   "metadata": {},
   "source": [
    "## **MiniZinc Model**\n",
    "\n",
    "This cell houses the problem description for the MiniZinc solver, including the variables, their frameworks, and the necessary constraints.\n",
    "\n",
    "The script takes a integer variable of the total number of nodes and creates a set from 1 to the number of nodes. It instantiates two arrays of the size total number of nodes by total number of nodes, the first of which an empty Boolean to house the paths that the solver decides to take and the second of which the edge matrix from before. There were four total constraints: (1) the solver can only leave each node one time, (2) the solver can only enter each node one time, (3) the solver cannot take subloops, and (4) the total distance must be greater than zero. The variable total_dist sums the total of all edges taken and the solver optimizes for the minimum value. "
   ]
  },
  {
   "cell_type": "code",
   "execution_count": 21,
   "metadata": {},
   "outputs": [],
   "source": [
    "solver = Solver.lookup('gecode') \n",
    "model = Model()\n",
    "model.add_string(\n",
    "    \"\"\"\n",
    "    % Parameters\n",
    "    int: nn;                        % number of nodes\n",
    "    set of int: NODES = 1..nn;      % creates a set of the length of total number of nodes\n",
    "\n",
    "    array[NODES, NODES] of var 0..1: x;             % x[i, j] is 1 if the path goes from node i to node j, otherwise it is zero\n",
    "    array[NODES, NODES] of var int: edges;          % loads a matrix of the edge weights between all nodes\n",
    "\n",
    "    constraint forall(i in NODES) (sum(j in NODES) (x[i, j]) = 1);                      % forces the salesperson to leave the goal only once, i.e. not twice or zero times\n",
    "    constraint forall(j in NODES) (sum(i in NODES) (x[i, j]) = 1);                      % forces the salesperson to enter the goal only once, i.e. not twice or zero times\n",
    "    constraint forall(i in NODES, j in NODES where i != j) (x[i, j] + x[j, i] <= 1);    % ensures that the salesperson completes the full loop without creating smaller loops between node point destinations \n",
    "    constraint forall(i in NODES, j in NODES where edges[i, j] == 0) (x[i, j] = 0);     % forces the solver to avoid selecting edges with zero distance (ones that indicate the same city)\n",
    "\n",
    "    var int: total_dist = sum(i in NODES, j in NODES) (edges[i, j] * x[i, j]);          % calculates the total distance by summing the paths taken by the solver\n",
    "\n",
    "    solve minimize total_dist; \n",
    "\n",
    "    output [\"Nodes visited: \" ++ show([i | j in NODES, i in NODES where x[i, j] = 1])];\n",
    "    \"\"\"\n",
    ")"
   ]
  },
  {
   "cell_type": "markdown",
   "metadata": {},
   "source": [
    "## **Solving for Minimal Distance, i.e. Optimal Path**"
   ]
  },
  {
   "cell_type": "code",
   "execution_count": 28,
   "metadata": {},
   "outputs": [
    {
     "name": "stdout",
     "output_type": "stream",
     "text": [
      "The Optimal Path for the TSP is: [(2, 3), (4, 14), (4, 1), (1, 14), (3, 8), (1, 1), (3, 14)]. \n",
      "\n",
      "[0, 0, 0, 0, 0, 1, 0]\n",
      "[0, 0, 0, 1, 0, 0, 0]\n",
      "[1, 0, 0, 0, 0, 0, 0]\n",
      "[0, 0, 0, 0, 1, 0, 0]\n",
      "[0, 0, 0, 0, 0, 0, 1]\n",
      "[0, 0, 1, 0, 0, 0, 0]\n",
      "[0, 1, 0, 0, 0, 0, 0]\n",
      "\n",
      "The total cost of the path amounts to 28 spaces.\n"
     ]
    }
   ],
   "source": [
    "instance = Instance(solver, model) #creates a solver instance, loaded with the model\n",
    "\n",
    "instance[\"nn\"] = 7 #loading the variables into the solver instance\n",
    "instance[\"edges\"] = edges #loading the variables into the solver instance\n",
    "\n",
    "result = (await instance.solve_async()) #solves the problem based on the constraint\n",
    "try:\n",
    "    optimal_path = result.solution._output_item\n",
    "\n",
    "    hold = []\n",
    "    for num in optimal_path: #outputs the optimal path, if available\n",
    "        try:\n",
    "            id = int(num)\n",
    "            if id in reverse_ids: #reconverts the matrix coordinates into the respective node coordinates\n",
    "                hold.append(reverse_ids[id])\n",
    "        except:\n",
    "            pass\n",
    "    print(f\"The Optimal Path for the TSP is: {hold}. \\n\") #prints the optimal sequence of nodes\n",
    "    for line in result.solution.x:\n",
    "        print(line) #prints the specific nodes and weights chosen from the provided edges matrix (see above)\n",
    "\n",
    "except AttributeError:\n",
    "    print('No Solution Found')\n",
    "\n",
    "print(f\"\\nThe total cost of the path amounts to {result.solution.objective} spaces.\") #prints the total number of spaces traversed by the solver (total weights)"
   ]
  }
 ],
 "metadata": {
  "kernelspec": {
   "display_name": "ailab-cop",
   "language": "python",
   "name": "python3"
  },
  "language_info": {
   "codemirror_mode": {
    "name": "ipython",
    "version": 3
   },
   "file_extension": ".py",
   "mimetype": "text/x-python",
   "name": "python",
   "nbconvert_exporter": "python",
   "pygments_lexer": "ipython3",
   "version": "3.11.8"
  }
 },
 "nbformat": 4,
 "nbformat_minor": 2
}
